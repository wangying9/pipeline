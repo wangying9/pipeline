{
 "cells": [
  {
   "cell_type": "code",
   "execution_count": 0,
   "metadata": {
    "application/vnd.databricks.v1+cell": {
     "cellMetadata": {
      "byteLimit": 2048000,
      "rowLimit": 10000
     },
     "inputWidgets": {},
     "nuid": "e577fad3-059d-4716-9cf8-f2bf2fc80669",
     "showTitle": false,
     "tableResultSettingsMap": {},
     "title": ""
    }
   },
   "outputs": [],
   "source": [
    "import mlflow\n",
    "import pandas as pd\n",
    "import time\n",
    "from sklearn.metrics import accuracy_score\n",
    "\n",
    "# Simulate fetching real-time prediction data (this could be data from your production environment)\n",
    "def get_live_data():\n",
    "    data = {\n",
    "        'feature1': [5.1, 4.9, 4.7, 4.6],\n",
    "        'feature2': [3.5, 3.0, 3.2, 3.1],\n",
    "        'feature3': [1.4, 1.4, 1.3, 1.5],\n",
    "        'feature4': [0.2, 0.2, 0.2, 0.2]\n",
    "    }\n",
    "    df = pd.DataFrame(data)\n",
    "    return df\n",
    "\n",
    "def monitor_model_performance(model_uri):\n",
    "    # Load the model from MLflow model registry\n",
    "    model = mlflow.pyfunc.load_model(model_uri)\n",
    "\n",
    "    while True:\n",
    "        # Fetch live data\n",
    "        live_data = get_live_data()\n",
    "\n",
    "        # Make predictions with the model\n",
    "        predictions = model.predict(live_data)\n",
    "\n",
    "        # Simulate ground truth labels for comparison (usually these would be fetched from your data store)\n",
    "        true_labels = [0, 1, 0, 1]  # Example labels\n",
    "\n",
    "        # Calculate performance metrics\n",
    "        accuracy = accuracy_score(true_labels, predictions)\n",
    "        print(f\"Model accuracy: {accuracy}\")\n",
    "        # If performance drops below threshold, trigger retraining or alert\n",
    "        if accuracy < 0.85:\n",
    "            print(\"Model performance has dropped. Retraining required.\")\n",
    "            # Optionally, trigger an alert or retrain the model (e.g., through an API or another script)\n",
    "            break\n",
    "\n",
    "        # Wait for a specific time before the next check (e.g., 1 hour)\n",
    "        time.sleep(3600)\n",
    "\n",
    "if __name__ == \"__main__\":\n",
    "    run_id='0cd5e4783cae4db7be2359bf75b65fbc'\n",
    "    model_uri=f'runs:/{run_id}/model'\n",
    "    monitor_model_performance(model_uri)\n"
   ]
  }
 ],
 "metadata": {
  "application/vnd.databricks.v1+notebook": {
   "computePreferences": null,
   "dashboards": [],
   "environmentMetadata": {
    "base_environment": "",
    "environment_version": "2"
   },
   "language": "python",
   "notebookMetadata": {
    "pythonIndentUnit": 4
   },
   "notebookName": "model_monitoring_iris",
   "widgets": {}
  },
  "language_info": {
   "name": "python"
  }
 },
 "nbformat": 4,
 "nbformat_minor": 0
}
